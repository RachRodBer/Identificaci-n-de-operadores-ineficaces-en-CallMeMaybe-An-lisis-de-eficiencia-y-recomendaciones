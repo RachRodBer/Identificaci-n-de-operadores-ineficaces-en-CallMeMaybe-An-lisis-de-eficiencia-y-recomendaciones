{
 "cells": [
  {
   "cell_type": "markdown",
   "metadata": {},
   "source": [
    "Hola **Rachel**!\n",
    "\n",
    "Soy **Patricio Requena** 👋. Es un placer ser el revisor de tu proyecto el día de hoy!\n",
    "\n",
    "Revisaré tu proyecto detenidamente con el objetivo de ayudarte a mejorar y perfeccionar tus habilidades. Durante mi revisión, identificaré áreas donde puedas hacer mejoras en tu código, señalando específicamente qué y cómo podrías ajustar para optimizar el rendimiento y la claridad de tu proyecto. Además, es importante para mí destacar los aspectos que has manejado excepcionalmente bien. Reconocer tus fortalezas te ayudará a entender qué técnicas y métodos están funcionando a tu favor y cómo puedes aplicarlos en futuras tareas. \n",
    "\n",
    "_**Recuerda que al final de este notebook encontrarás un comentario general de mi parte**_, empecemos!\n",
    "\n",
    "Encontrarás mis comentarios dentro de cajas verdes, amarillas o rojas, ⚠️ **por favor, no muevas, modifiques o borres mis comentarios** ⚠️:\n",
    "\n",
    "\n",
    "<div class=\"alert alert-block alert-success\">\n",
    "<b>Comentario del revisor</b> <a class=“tocSkip”></a>\n",
    "Si todo está perfecto.\n",
    "</div>\n",
    "\n",
    "<div class=\"alert alert-block alert-warning\">\n",
    "<b>Comentario del revisor</b> <a class=“tocSkip”></a>\n",
    "Si tu código está bien pero se puede mejorar o hay algún detalle que le hace falta.\n",
    "</div>\n",
    "\n",
    "<div class=\"alert alert-block alert-danger\">\n",
    "<b>Comentario del revisor</b> <a class=“tocSkip”></a>\n",
    "Si de pronto hace falta algo o existe algún problema con tu código o conclusiones.\n",
    "</div>\n",
    "\n",
    "Puedes responderme de esta forma:\n",
    "<div class=\"alert alert-block alert-info\">\n",
    "<b>Respuesta del estudiante</b> <a class=“tocSkip”></a>\n",
    "</div>"
   ]
  },
  {
   "cell_type": "markdown",
   "metadata": {},
   "source": [
    "<div class=\"alert alert-block alert-danger\">\n",
    "<b>Comentario general (1ra Iteracion)</b> <a class=“tocSkip”></a>\n",
    "\n",
    "Tienes un proyecto súper completo Rachel, planteaste gráficas y análisis adecuados a cada parte de tu dataset dejando claro con cada conclusión lo que se intenta comunicar. Las pruebas de hipótesis se aplicaron correctamente con la justificación adecuada y las conclusiones finales están totalmente correctas.\n",
    "    \n",
    "La única razón por la que regreso es tu proyecto es porque necesito revisar la presentación y el link que compartiste no está para que cualquier pueda acceder, antes de volver a enviar tu iteración asegurate que puedas acceder al link desde tu navegador en modo incógnito y recuerda que debe ser una presentación usando Google Slides o Power point donde expongas las gráficas y los hallazgos más importantes de tu proyecto y eso lo exportas a PDF para adjuntarlo en el link compartido. Saludos!\n",
    "</div>"
   ]
  },
  {
   "cell_type": "markdown",
   "metadata": {},
   "source": [
    "Link a google drive:\n",
    "https://drive.google.com/drive/folders/1nRmwuW37Ygkbf0MdobiHAlo7v5hr_ebx"
   ]
  },
  {
   "cell_type": "markdown",
   "metadata": {},
   "source": [
    "<h1 style=\"text-align: center;\">Identificación de operadores ineficaces en CallMeMaybe (servicio de telefonía virtual)</h1>\n",
    "\n"
   ]
  },
  {
   "cell_type": "markdown",
   "metadata": {},
   "source": [
    "**Introducción**\n",
    "\n",
    "El servicio de telefonía virtual CallMeMaybe busca mejorar la eficiencia de sus operadores mediante el desarrollo de una nueva función que brinde a los supervisores información sobre los operadores menos eficaces.\n",
    "\n",
    "Un operador se considera ineficaz si:\n",
    "\n",
    "Tiene una alta cantidad de llamadas entrantes perdidas (internas y externas).\n",
    "Presenta un tiempo de espera prolongado en llamadas entrantes.\n",
    "Sus llamadas salientes son pocas.\n",
    "\n",
    "El análisis de los datos permitirá identificar patrones en el comportamiento de los operadores y optimizar la gestión del servicio de telecomunicaciones.\n",
    "\n",
    "**Objetivo**\n",
    "\n",
    "El objetivo principal de este proyecto es identificar operadores ineficaces en el servicio de telefonía virtual CallMeMaybe. \n",
    "\n",
    "Los objetivos específicos incluyen:\n",
    "\n",
    "Realizar un análisis exploratorio y preprocesamiento de los datos.\n",
    "Identificar los operadores menos eficaces según los criterios establecidos.\n",
    "Validar hipótesis estadísticas sobre los factores que influyen en la ineficacia.\n",
    "Formular recomendaciones para optimizar el desempeño de los operadores y mejorar el servicio.\n",
    "\n",
    "**Etapas de Desarrollo**\n",
    "\n",
    "1. Análisis Exploratorio y Preprocesamiento de Datos:\n",
    "Carga de los datasets (telecom_dataset_us.csv y telecom_clients_us.csv) y de las librerias pertienentes para desarrollar el proyecto.\n",
    "Revisión de la estructura de los datos (.info(), .describe()).\n",
    "Identificación y manejo de valores nulos y duplicados.\n",
    "Conversión de tipos de datos y normalización si es necesario.\n",
    "Análisis preliminar de variables clave: llamadas perdidas, duración de llamadas, tiempos de espera.\n",
    "2. Identificación de Operadores Ineficaces:\n",
    "Cálculo de la tasa de llamadas perdidas por operador.\n",
    "Análisis del tiempo promedio de espera y su impacto en la eficiencia.\n",
    "Evaluación del rendimiento en llamadas salientes.\n",
    "Clasificación de operadores ineficaces según criterios definidos.\n",
    "3. Pruebas de Hipótesis Estadísticas:\n",
    "Identificamos algunas Hipótesis que podríamos desarrollar y que nos podrían ayudar a generar recomendaciones, dependiendo de la disponibilidad de datos, por ejemplo:\n",
    "Determinar si existe una correlación entre la cantidad de llamadas entrantes y la tasa de llamadas perdidas.\n",
    "Evaluar la relación entre tiempos de espera y pérdida de llamadas.\n",
    "Comparar la eficiencia de operadores según su carga de trabajo.\n",
    "Analizar si los clientes con distintos planes tarifarios tienen operadores con niveles de eficiencia diferentes.\n",
    "4. Conclusión y Recomendaciones:\n",
    "Resumen de hallazgos clave sobre la eficiencia de los operadores.\n",
    "Propuestas para mejorar el desempeño de los operadores.\n",
    "Medidas para optimizar los tiempos de espera en llamadas entrantes.\n",
    "Recomendaciones para la gestión y supervisión de operadores."
   ]
  },
  {
   "cell_type": "markdown",
   "metadata": {},
   "source": [
    "**Análisis Exploratorio de Datos (EDA)**\n",
    "\n",
    "En esta etapa, exploraremos los datasets para comprender su estructura y detectar posibles problemas:\n",
    "\n",
    "Carga de datos: Importaremos las librerias que utilizaremos y los archivos telecom_dataset_us.csv y telecom_clients_us.csv.\n",
    "\n",
    "Revisión general: Utilizaremos .info() y .describe() para analizar los tipos de datos, valores nulos y estadísticas generales.\n",
    "\n",
    "Detección de valores ausentes y duplicados: Verificaremos si hay datos faltantes o repetidos y evaluaremos cómo manejarlos.\n",
    "\n",
    "Distribución de variables: Analizaremos las métricas clave como el número de llamadas, duración de llamadas y proporción de llamadas perdidas.\n",
    "\n",
    "Relaciones entre variables: Exploraremos correlaciones entre las características para entender qué factores pueden influir en la ineficacia de los operadores."
   ]
  },
  {
   "cell_type": "markdown",
   "metadata": {},
   "source": [
    "**Preprocesamiento de Datos**\n",
    "\n",
    "Después del análisis exploratorio, prepararemos los datos para el análisis:\n",
    "\n",
    "Conversión de tipos de datos: Aseguraremos que los tipos de datos sean los correctos (por ejemplo, date como tipo fecha).\n",
    "\n",
    "Manejo de valores nulos: Evaluaremos si es necesario eliminar o imputar valores faltantes.\n",
    "\n",
    "Creación de nuevas variables: Calcularemos métricas adicionales, como la proporción de llamadas perdidas por operador o el tiempo medio de espera.\n",
    "\n",
    "Este proceso garantizará que los datos estén listos para identificar operadores ineficaces y realizar pruebas estadísticas."
   ]
  },
  {
   "cell_type": "markdown",
   "metadata": {},
   "source": [
    "**Identificación de Operadores Ineficaces**\n",
    "\n",
    "Un operador se considera ineficaz si cumple con las siguientes condiciones:\n",
    "\n",
    "- Tiene una alta cantidad de llamadas entrantes perdidas (internas y externas).\n",
    "- Presenta un tiempo de espera prolongado en llamadas entrantes.\n",
    "- Si su función es realizar llamadas salientes, tiene un bajo número de llamadas salientes.\n",
    "\n",
    "Para lograr identificarlos, realizaremos lo siguiente:\n",
    "\n",
    "1. Calcularemos la proporción de llamadas perdidas por operador:\n",
    "   La tasa de llamadas perdidas se calcula como:  \n",
    "   `tasa de llamadas perdidas = llamadas perdidas / total de llamadas entrantes`.\n",
    "\n",
    "2. Análisis de tiempos de espera:\n",
    "   Calcularemos el tiempo promedio de espera para cada operador utilizando la fórmula:  \n",
    "   `tiempo de espera = total_call_duration - call_duration`.\n",
    "\n",
    "3. Análisis de llamadas salientes:\n",
    "   Calcularemos la cantidad promedio de llamadas salientes por operador.\n",
    "\n",
    "4. Clasificación de operadores ineficaces:\n",
    "   Definiremos umbrales de ineficacia basados en los análisis anteriores, por ejemplo:  \n",
    "   - Operadores con una tasa de llamadas perdidas mayor al 75%.  \n",
    "   - Un tiempo de espera mayor al promedio.  \n",
    "   - Una cantidad promedio baja de llamadas salientes.\n",
    "\n",
    "   Crearemos una lista o etiqueta de \"operador ineficaz\" para facilitar el análisis posterior.\n"
   ]
  },
  {
   "cell_type": "markdown",
   "metadata": {},
   "source": [
    "**Hipótesis estadísticas**\n",
    "\n",
    "Hipótesis 1: \n",
    "\"Los operadores con un mayor número de llamadas entrantes tienen una mayor tasa de llamadas perdidas.\" \n",
    "\n",
    "Hipótesis nula (H0): \n",
    "No existe una relación significativa entre el número de llamadas entrantes y la tasa de llamadas perdidas.\n",
    "\n",
    "Hipótesis alternativa (H1): \n",
    "Existe una relación significativa entre el número de llamadas entrantes y la tasa de llamadas perdidas. A medida que aumenta el número de llamadas entrantes, también aumenta la tasa de llamadas perdidas.\n",
    "\n",
    "\n",
    "Hipótesis 2: \n",
    "\"El tiempo de espera no impacta el número de llamadas perdidas.\"\n",
    "\n",
    "Hipótesis nula (H0): \n",
    "No existe una diferencia significativa en el número de llamadas perdidas entre los operados con alto tiempo de espera vs los operadores con bajo tiempo de espera.\n",
    "\n",
    "Hipótesis alternativa (H1): Existe una diferencia significativa entre en el número de llamadas perdidas entre los operados con alto tiempo de espera vs los operadores con bajo tiempo de espera.\n",
    "\n",
    "Utilizaremos la prueba estadística t o la prueba de Mann-Whitney U, según la información que vayamos encontrando al desarrollar el proyecto.\n"
   ]
  },
  {
   "cell_type": "markdown",
   "metadata": {},
   "source": [
    "**Conclusiones y recomendaciones**\n",
    "\n",
    "A partir del análisis que realizaremos, presentaremos conclusiones sobre la relación entre el tiempo de espera, las llamadas perdidas y la baja cantidad de llamadas salientes con la ineficacia de los operadores. Además, podremos ofrecer recomendaciones para mejorar su eficacia.\n"
   ]
  },
  {
   "cell_type": "markdown",
   "metadata": {},
   "source": [
    "   <div class=\"alert alert-block alert-success\">\n",
    "<b>Comentario del revisor (1ra Iteracion)</b> <a class=“tocSkip”></a>\n",
    "\n",
    "Muy bien, incluir esta introducción deja claro el que y cómo se realizará el proyecto\n",
    "</div>"
   ]
  },
  {
   "cell_type": "markdown",
   "metadata": {},
   "source": [
    "**Análisis Exploratorio de Datos (EDA) y Preprocesamiento de Datos**\n"
   ]
  },
  {
   "cell_type": "code",
   "execution_count": 13,
   "metadata": {},
   "outputs": [],
   "source": [
    "# Importamos las librerías que utilizaremos\n",
    "import pandas as pd\n",
    "import numpy as np\n",
    "import matplotlib.pyplot as plt\n",
    "import seaborn as sns\n",
    "from scipy import stats as st\n",
    "from scipy.stats import ttest_ind\n",
    "from scipy.stats import mannwhitneyu\n"
   ]
  },
  {
   "cell_type": "code",
   "execution_count": 14,
   "metadata": {},
   "outputs": [],
   "source": [
    "# Cargamos los archivos de datos \n",
    "clients = pd.read_csv('telecom_clients_us.csv')\n",
    "data_set = pd.read_csv('telecom_dataset_us.csv')\n"
   ]
  },
  {
   "cell_type": "markdown",
   "metadata": {},
   "source": [
    "Comenzaremos con el análisis de la información general de los dos dataframes."
   ]
  },
  {
   "cell_type": "code",
   "execution_count": 16,
   "metadata": {},
   "outputs": [],
   "source": [
    "# Creamos una función analizar los datafames\n",
    "\n",
    "def analisis_exploratorio_df(data):\n",
    "    print(data.head())\n",
    "    print()\n",
    "    print(data.info())\n",
    "    print()\n",
    "    print(data.describe())\n",
    "    print()\n",
    "    print('Valores ausentes:' )\n",
    "    print(data.isna().sum())\n",
    "    print()\n",
    "    print('Filas duplicadas:',data.duplicated().sum())\n"
   ]
  },
  {
   "cell_type": "code",
   "execution_count": 17,
   "metadata": {},
   "outputs": [
    {
     "name": "stdout",
     "output_type": "stream",
     "text": [
      "   user_id tariff_plan  date_start\n",
      "0   166713           A  2019-08-15\n",
      "1   166901           A  2019-08-23\n",
      "2   168527           A  2019-10-29\n",
      "3   167097           A  2019-09-01\n",
      "4   168193           A  2019-10-16\n",
      "\n",
      "<class 'pandas.core.frame.DataFrame'>\n",
      "RangeIndex: 732 entries, 0 to 731\n",
      "Data columns (total 3 columns):\n",
      " #   Column       Non-Null Count  Dtype \n",
      "---  ------       --------------  ----- \n",
      " 0   user_id      732 non-null    int64 \n",
      " 1   tariff_plan  732 non-null    object\n",
      " 2   date_start   732 non-null    object\n",
      "dtypes: int64(1), object(2)\n",
      "memory usage: 17.3+ KB\n",
      "None\n",
      "\n",
      "             user_id\n",
      "count     732.000000\n",
      "mean   167431.927596\n",
      "std       633.810383\n",
      "min    166373.000000\n",
      "25%    166900.750000\n",
      "50%    167432.000000\n",
      "75%    167973.000000\n",
      "max    168606.000000\n",
      "\n",
      "Valores ausentes:\n",
      "user_id        0\n",
      "tariff_plan    0\n",
      "date_start     0\n",
      "dtype: int64\n",
      "\n",
      "Filas duplicadas: 0\n"
     ]
    }
   ],
   "source": [
    "# Analizamos la información general del DF clients\n",
    "analisis_exploratorio_df(clients)"
   ]
  },
  {
   "cell_type": "code",
   "execution_count": 18,
   "metadata": {},
   "outputs": [
    {
     "name": "stdout",
     "output_type": "stream",
     "text": [
      "<class 'pandas.core.frame.DataFrame'>\n",
      "RangeIndex: 732 entries, 0 to 731\n",
      "Data columns (total 3 columns):\n",
      " #   Column       Non-Null Count  Dtype         \n",
      "---  ------       --------------  -----         \n",
      " 0   user_id      732 non-null    int64         \n",
      " 1   tariff_plan  732 non-null    object        \n",
      " 2   date_start   732 non-null    datetime64[ns]\n",
      "dtypes: datetime64[ns](1), int64(1), object(1)\n",
      "memory usage: 17.3+ KB\n"
     ]
    }
   ],
   "source": [
    "# Cambiamos 'date_start' del DF clients al formato correcto y corroboramos que se realizó\n",
    "clients['date_start'] = pd.to_datetime(clients['date_start'],format='%Y-%m-%d')\n",
    "clients.info()"
   ]
  },
  {
   "cell_type": "code",
   "execution_count": 19,
   "metadata": {},
   "outputs": [
    {
     "name": "stdout",
     "output_type": "stream",
     "text": [
      "   user_id                       date direction internal  operator_id  \\\n",
      "0   166377  2019-08-04 00:00:00+03:00        in    False          NaN   \n",
      "1   166377  2019-08-05 00:00:00+03:00       out     True     880022.0   \n",
      "2   166377  2019-08-05 00:00:00+03:00       out     True     880020.0   \n",
      "3   166377  2019-08-05 00:00:00+03:00       out     True     880020.0   \n",
      "4   166377  2019-08-05 00:00:00+03:00       out    False     880022.0   \n",
      "\n",
      "   is_missed_call  calls_count  call_duration  total_call_duration  \n",
      "0            True            2              0                    4  \n",
      "1            True            3              0                    5  \n",
      "2            True            1              0                    1  \n",
      "3           False            1             10                   18  \n",
      "4            True            3              0                   25  \n",
      "\n",
      "<class 'pandas.core.frame.DataFrame'>\n",
      "RangeIndex: 53902 entries, 0 to 53901\n",
      "Data columns (total 9 columns):\n",
      " #   Column               Non-Null Count  Dtype  \n",
      "---  ------               --------------  -----  \n",
      " 0   user_id              53902 non-null  int64  \n",
      " 1   date                 53902 non-null  object \n",
      " 2   direction            53902 non-null  object \n",
      " 3   internal             53785 non-null  object \n",
      " 4   operator_id          45730 non-null  float64\n",
      " 5   is_missed_call       53902 non-null  bool   \n",
      " 6   calls_count          53902 non-null  int64  \n",
      " 7   call_duration        53902 non-null  int64  \n",
      " 8   total_call_duration  53902 non-null  int64  \n",
      "dtypes: bool(1), float64(1), int64(4), object(3)\n",
      "memory usage: 3.3+ MB\n",
      "None\n",
      "\n",
      "             user_id    operator_id   calls_count  call_duration  \\\n",
      "count   53902.000000   45730.000000  53902.000000   53902.000000   \n",
      "mean   167295.344477  916535.993002     16.451245     866.684427   \n",
      "std       598.883775   21254.123136     62.917170    3731.791202   \n",
      "min    166377.000000  879896.000000      1.000000       0.000000   \n",
      "25%    166782.000000  900788.000000      1.000000       0.000000   \n",
      "50%    167162.000000  913938.000000      4.000000      38.000000   \n",
      "75%    167819.000000  937708.000000     12.000000     572.000000   \n",
      "max    168606.000000  973286.000000   4817.000000  144395.000000   \n",
      "\n",
      "       total_call_duration  \n",
      "count         53902.000000  \n",
      "mean           1157.133297  \n",
      "std            4403.468763  \n",
      "min               0.000000  \n",
      "25%              47.000000  \n",
      "50%             210.000000  \n",
      "75%             902.000000  \n",
      "max          166155.000000  \n",
      "\n",
      "Valores ausentes:\n",
      "user_id                   0\n",
      "date                      0\n",
      "direction                 0\n",
      "internal                117\n",
      "operator_id            8172\n",
      "is_missed_call            0\n",
      "calls_count               0\n",
      "call_duration             0\n",
      "total_call_duration       0\n",
      "dtype: int64\n",
      "\n",
      "Filas duplicadas: 4900\n"
     ]
    }
   ],
   "source": [
    "# Analizamos la información general del DF data_set\n",
    "analisis_exploratorio_df(data_set)"
   ]
  },
  {
   "cell_type": "code",
   "execution_count": 20,
   "metadata": {},
   "outputs": [
    {
     "data": {
      "text/html": [
       "<div>\n",
       "<style scoped>\n",
       "    .dataframe tbody tr th:only-of-type {\n",
       "        vertical-align: middle;\n",
       "    }\n",
       "\n",
       "    .dataframe tbody tr th {\n",
       "        vertical-align: top;\n",
       "    }\n",
       "\n",
       "    .dataframe thead th {\n",
       "        text-align: right;\n",
       "    }\n",
       "</style>\n",
       "<table border=\"1\" class=\"dataframe\">\n",
       "  <thead>\n",
       "    <tr style=\"text-align: right;\">\n",
       "      <th></th>\n",
       "      <th>user_id</th>\n",
       "      <th>date</th>\n",
       "      <th>direction</th>\n",
       "      <th>internal</th>\n",
       "      <th>operator_id</th>\n",
       "      <th>is_missed_call</th>\n",
       "      <th>calls_count</th>\n",
       "      <th>call_duration</th>\n",
       "      <th>total_call_duration</th>\n",
       "    </tr>\n",
       "  </thead>\n",
       "  <tbody>\n",
       "    <tr>\n",
       "      <th>31103</th>\n",
       "      <td>167402</td>\n",
       "      <td>2019-09-23 00:00:00+03:00</td>\n",
       "      <td>in</td>\n",
       "      <td>False</td>\n",
       "      <td>912010.0</td>\n",
       "      <td>False</td>\n",
       "      <td>8</td>\n",
       "      <td>549</td>\n",
       "      <td>747</td>\n",
       "    </tr>\n",
       "    <tr>\n",
       "      <th>8052</th>\n",
       "      <td>166658</td>\n",
       "      <td>2019-08-27 00:00:00+03:00</td>\n",
       "      <td>out</td>\n",
       "      <td>False</td>\n",
       "      <td>891152.0</td>\n",
       "      <td>False</td>\n",
       "      <td>7</td>\n",
       "      <td>1312</td>\n",
       "      <td>1383</td>\n",
       "    </tr>\n",
       "    <tr>\n",
       "      <th>12304</th>\n",
       "      <td>166725</td>\n",
       "      <td>2019-09-25 00:00:00+03:00</td>\n",
       "      <td>out</td>\n",
       "      <td>False</td>\n",
       "      <td>889754.0</td>\n",
       "      <td>True</td>\n",
       "      <td>1</td>\n",
       "      <td>0</td>\n",
       "      <td>8</td>\n",
       "    </tr>\n",
       "    <tr>\n",
       "      <th>41158</th>\n",
       "      <td>167828</td>\n",
       "      <td>2019-11-21 00:00:00+03:00</td>\n",
       "      <td>out</td>\n",
       "      <td>False</td>\n",
       "      <td>938612.0</td>\n",
       "      <td>False</td>\n",
       "      <td>15</td>\n",
       "      <td>1370</td>\n",
       "      <td>1521</td>\n",
       "    </tr>\n",
       "    <tr>\n",
       "      <th>51141</th>\n",
       "      <td>168271</td>\n",
       "      <td>2019-11-07 00:00:00+03:00</td>\n",
       "      <td>out</td>\n",
       "      <td>False</td>\n",
       "      <td>954650.0</td>\n",
       "      <td>True</td>\n",
       "      <td>1</td>\n",
       "      <td>0</td>\n",
       "      <td>9</td>\n",
       "    </tr>\n",
       "  </tbody>\n",
       "</table>\n",
       "</div>"
      ],
      "text/plain": [
       "       user_id                       date direction internal  operator_id  \\\n",
       "31103   167402  2019-09-23 00:00:00+03:00        in    False     912010.0   \n",
       "8052    166658  2019-08-27 00:00:00+03:00       out    False     891152.0   \n",
       "12304   166725  2019-09-25 00:00:00+03:00       out    False     889754.0   \n",
       "41158   167828  2019-11-21 00:00:00+03:00       out    False     938612.0   \n",
       "51141   168271  2019-11-07 00:00:00+03:00       out    False     954650.0   \n",
       "\n",
       "       is_missed_call  calls_count  call_duration  total_call_duration  \n",
       "31103           False            8            549                  747  \n",
       "8052            False            7           1312                 1383  \n",
       "12304            True            1              0                    8  \n",
       "41158           False           15           1370                 1521  \n",
       "51141            True            1              0                    9  "
      ]
     },
     "execution_count": 20,
     "metadata": {},
     "output_type": "execute_result"
    }
   ],
   "source": [
    "# Eliminamos filas donde operator_id e internal son NaN del DF data_set\n",
    "data_set.dropna(subset=['operator_id'], inplace=True)\n",
    "data_set.dropna(subset=['internal'], inplace=True)\n",
    "data_set.sample(5)"
   ]
  },
  {
   "cell_type": "code",
   "execution_count": 21,
   "metadata": {},
   "outputs": [
    {
     "data": {
      "text/plain": [
       "user_id                0\n",
       "date                   0\n",
       "direction              0\n",
       "internal               0\n",
       "operator_id            0\n",
       "is_missed_call         0\n",
       "calls_count            0\n",
       "call_duration          0\n",
       "total_call_duration    0\n",
       "dtype: int64"
      ]
     },
     "execution_count": 21,
     "metadata": {},
     "output_type": "execute_result"
    }
   ],
   "source": [
    "# Corroboramos que ya no existan nulos en el DF data_set\n",
    "data_set.isna().sum()"
   ]
  },
  {
   "cell_type": "code",
   "execution_count": 22,
   "metadata": {},
   "outputs": [
    {
     "name": "stdout",
     "output_type": "stream",
     "text": [
      "<class 'pandas.core.frame.DataFrame'>\n",
      "Index: 45670 entries, 1 to 53900\n",
      "Data columns (total 9 columns):\n",
      " #   Column               Non-Null Count  Dtype         \n",
      "---  ------               --------------  -----         \n",
      " 0   user_id              45670 non-null  int64         \n",
      " 1   date                 45670 non-null  datetime64[ns]\n",
      " 2   direction            45670 non-null  object        \n",
      " 3   internal             45670 non-null  object        \n",
      " 4   operator_id          45670 non-null  object        \n",
      " 5   is_missed_call       45670 non-null  bool          \n",
      " 6   calls_count          45670 non-null  int64         \n",
      " 7   call_duration        45670 non-null  int64         \n",
      " 8   total_call_duration  45670 non-null  int64         \n",
      "dtypes: bool(1), datetime64[ns](1), int64(4), object(3)\n",
      "memory usage: 3.2+ MB\n"
     ]
    }
   ],
   "source": [
    "# Convertimos la columna 'date' a datetime y eliminamos cualquier zona horaria\n",
    "data_set['date'] = pd.to_datetime(data_set['date'], errors='coerce')\n",
    "\n",
    "# Eliminamos zona horaria con tz_localize('UTC', ambiguous='NaT') \n",
    "data_set['date'] = data_set['date'].dt.tz_localize(None)\n",
    "\n",
    "# Convertimos operator_id a object\n",
    "data_set['operator_id'] = data_set['operator_id'].astype('int').astype('object')\n",
    "\n",
    "# Verificamos la información del DataFrame para corroborar los cambios\n",
    "data_set.info()\n"
   ]
  },
  {
   "cell_type": "code",
   "execution_count": 23,
   "metadata": {},
   "outputs": [
    {
     "data": {
      "text/html": [
       "<div>\n",
       "<style scoped>\n",
       "    .dataframe tbody tr th:only-of-type {\n",
       "        vertical-align: middle;\n",
       "    }\n",
       "\n",
       "    .dataframe tbody tr th {\n",
       "        vertical-align: top;\n",
       "    }\n",
       "\n",
       "    .dataframe thead th {\n",
       "        text-align: right;\n",
       "    }\n",
       "</style>\n",
       "<table border=\"1\" class=\"dataframe\">\n",
       "  <thead>\n",
       "    <tr style=\"text-align: right;\">\n",
       "      <th></th>\n",
       "      <th>user_id</th>\n",
       "      <th>date</th>\n",
       "      <th>direction</th>\n",
       "      <th>internal</th>\n",
       "      <th>operator_id</th>\n",
       "      <th>is_missed_call</th>\n",
       "      <th>calls_count</th>\n",
       "      <th>call_duration</th>\n",
       "      <th>total_call_duration</th>\n",
       "    </tr>\n",
       "  </thead>\n",
       "  <tbody>\n",
       "    <tr>\n",
       "      <th>8</th>\n",
       "      <td>166377</td>\n",
       "      <td>2019-08-05</td>\n",
       "      <td>out</td>\n",
       "      <td>False</td>\n",
       "      <td>880020</td>\n",
       "      <td>True</td>\n",
       "      <td>8</td>\n",
       "      <td>0</td>\n",
       "      <td>50</td>\n",
       "    </tr>\n",
       "    <tr>\n",
       "      <th>44</th>\n",
       "      <td>166377</td>\n",
       "      <td>2019-08-14</td>\n",
       "      <td>out</td>\n",
       "      <td>False</td>\n",
       "      <td>880026</td>\n",
       "      <td>False</td>\n",
       "      <td>10</td>\n",
       "      <td>1567</td>\n",
       "      <td>1654</td>\n",
       "    </tr>\n",
       "    <tr>\n",
       "      <th>51</th>\n",
       "      <td>166377</td>\n",
       "      <td>2019-08-15</td>\n",
       "      <td>out</td>\n",
       "      <td>False</td>\n",
       "      <td>880026</td>\n",
       "      <td>False</td>\n",
       "      <td>11</td>\n",
       "      <td>1413</td>\n",
       "      <td>1473</td>\n",
       "    </tr>\n",
       "    <tr>\n",
       "      <th>62</th>\n",
       "      <td>166377</td>\n",
       "      <td>2019-08-19</td>\n",
       "      <td>out</td>\n",
       "      <td>False</td>\n",
       "      <td>880026</td>\n",
       "      <td>False</td>\n",
       "      <td>14</td>\n",
       "      <td>1519</td>\n",
       "      <td>1598</td>\n",
       "    </tr>\n",
       "    <tr>\n",
       "      <th>78</th>\n",
       "      <td>166377</td>\n",
       "      <td>2019-08-22</td>\n",
       "      <td>out</td>\n",
       "      <td>False</td>\n",
       "      <td>880026</td>\n",
       "      <td>True</td>\n",
       "      <td>6</td>\n",
       "      <td>0</td>\n",
       "      <td>55</td>\n",
       "    </tr>\n",
       "    <tr>\n",
       "      <th>...</th>\n",
       "      <td>...</td>\n",
       "      <td>...</td>\n",
       "      <td>...</td>\n",
       "      <td>...</td>\n",
       "      <td>...</td>\n",
       "      <td>...</td>\n",
       "      <td>...</td>\n",
       "      <td>...</td>\n",
       "      <td>...</td>\n",
       "    </tr>\n",
       "    <tr>\n",
       "      <th>53861</th>\n",
       "      <td>168601</td>\n",
       "      <td>2019-11-20</td>\n",
       "      <td>out</td>\n",
       "      <td>False</td>\n",
       "      <td>952914</td>\n",
       "      <td>True</td>\n",
       "      <td>1</td>\n",
       "      <td>0</td>\n",
       "      <td>2</td>\n",
       "    </tr>\n",
       "    <tr>\n",
       "      <th>53869</th>\n",
       "      <td>168601</td>\n",
       "      <td>2019-11-25</td>\n",
       "      <td>in</td>\n",
       "      <td>False</td>\n",
       "      <td>952914</td>\n",
       "      <td>False</td>\n",
       "      <td>7</td>\n",
       "      <td>1229</td>\n",
       "      <td>1282</td>\n",
       "    </tr>\n",
       "    <tr>\n",
       "      <th>53874</th>\n",
       "      <td>168601</td>\n",
       "      <td>2019-11-26</td>\n",
       "      <td>in</td>\n",
       "      <td>False</td>\n",
       "      <td>952914</td>\n",
       "      <td>False</td>\n",
       "      <td>4</td>\n",
       "      <td>539</td>\n",
       "      <td>562</td>\n",
       "    </tr>\n",
       "    <tr>\n",
       "      <th>53885</th>\n",
       "      <td>168603</td>\n",
       "      <td>2019-11-20</td>\n",
       "      <td>out</td>\n",
       "      <td>False</td>\n",
       "      <td>959118</td>\n",
       "      <td>True</td>\n",
       "      <td>3</td>\n",
       "      <td>0</td>\n",
       "      <td>89</td>\n",
       "    </tr>\n",
       "    <tr>\n",
       "      <th>53900</th>\n",
       "      <td>168606</td>\n",
       "      <td>2019-11-15</td>\n",
       "      <td>out</td>\n",
       "      <td>True</td>\n",
       "      <td>957922</td>\n",
       "      <td>False</td>\n",
       "      <td>4</td>\n",
       "      <td>3130</td>\n",
       "      <td>3190</td>\n",
       "    </tr>\n",
       "  </tbody>\n",
       "</table>\n",
       "<p>4179 rows × 9 columns</p>\n",
       "</div>"
      ],
      "text/plain": [
       "       user_id       date direction internal operator_id  is_missed_call  \\\n",
       "8       166377 2019-08-05       out    False      880020            True   \n",
       "44      166377 2019-08-14       out    False      880026           False   \n",
       "51      166377 2019-08-15       out    False      880026           False   \n",
       "62      166377 2019-08-19       out    False      880026           False   \n",
       "78      166377 2019-08-22       out    False      880026            True   \n",
       "...        ...        ...       ...      ...         ...             ...   \n",
       "53861   168601 2019-11-20       out    False      952914            True   \n",
       "53869   168601 2019-11-25        in    False      952914           False   \n",
       "53874   168601 2019-11-26        in    False      952914           False   \n",
       "53885   168603 2019-11-20       out    False      959118            True   \n",
       "53900   168606 2019-11-15       out     True      957922           False   \n",
       "\n",
       "       calls_count  call_duration  total_call_duration  \n",
       "8                8              0                   50  \n",
       "44              10           1567                 1654  \n",
       "51              11           1413                 1473  \n",
       "62              14           1519                 1598  \n",
       "78               6              0                   55  \n",
       "...            ...            ...                  ...  \n",
       "53861            1              0                    2  \n",
       "53869            7           1229                 1282  \n",
       "53874            4            539                  562  \n",
       "53885            3              0                   89  \n",
       "53900            4           3130                 3190  \n",
       "\n",
       "[4179 rows x 9 columns]"
      ]
     },
     "execution_count": 23,
     "metadata": {},
     "output_type": "execute_result"
    }
   ],
   "source": [
    "# Identificamos filas duplicadas en el DF data_set\n",
    "data_set[data_set.duplicated()].sort_values(by=list(data_set.columns))"
   ]
  },
  {
   "cell_type": "markdown",
   "metadata": {},
   "source": [
    "<div style=\"background-color: skyblue; padding: 10px; border-radius: 5px;\">\n",
    "Eliminamos los datos ausentes en la columna operador_id, ya que nuestro análisis se enfoca en estudiar el comportamiento de los operadores para determinar su eficiencia. Sin este dato, no sería posible realizar el análisis, ya que no podríamos identificarlos. Al eliminar esos datos ausentes, también se eliminaron la mayoría de los datos faltantes en la columna internal, quedando solo 60 registros, los cuales también procedimos a eliminar.\n",
    "\n",
    "Eliminamos la zona horaria de la columna date, ya que esta era la misma en todos los registros y no aporta información relevante al análisis en el que estamos enfocados.\n",
    "\n",
    "Decidimos no eliminar los duplicados, ya que estos pueden deberse a que el mismo operador_id pudo haber realizado varias llamadas en el mismo día, lo que ocasiona que aparezcan como duplicados. Además, cambiamos las columnas que requerían ajuste al tipo de dato correcto. Esto nos permitirá realizar el análisis de manera adecuada."
   ]
  },
  {
   "cell_type": "markdown",
   "metadata": {},
   "source": [
    "**Métricas necesarias para identificar la eficiencia de los operadores**\n",
    "\n",
    "El siguiente paso es calcular las métricas para determinar a los operadores ineficientes, analizando las llamadas perdidas entrantes, las llamadas salientes y los tiempos de espera. En este análisis, podríamos identificar tanto a operadores eficientes como ineficientes.\n"
   ]
  },
  {
   "cell_type": "code",
   "execution_count": 26,
   "metadata": {},
   "outputs": [
    {
     "data": {
      "text/html": [
       "<div>\n",
       "<style scoped>\n",
       "    .dataframe tbody tr th:only-of-type {\n",
       "        vertical-align: middle;\n",
       "    }\n",
       "\n",
       "    .dataframe tbody tr th {\n",
       "        vertical-align: top;\n",
       "    }\n",
       "\n",
       "    .dataframe thead th {\n",
       "        text-align: right;\n",
       "    }\n",
       "</style>\n",
       "<table border=\"1\" class=\"dataframe\">\n",
       "  <thead>\n",
       "    <tr style=\"text-align: right;\">\n",
       "      <th></th>\n",
       "      <th>operator_id</th>\n",
       "      <th>calls_count</th>\n",
       "    </tr>\n",
       "  </thead>\n",
       "  <tbody>\n",
       "    <tr>\n",
       "      <th>0</th>\n",
       "      <td>882680</td>\n",
       "      <td>3</td>\n",
       "    </tr>\n",
       "    <tr>\n",
       "      <th>1</th>\n",
       "      <td>882684</td>\n",
       "      <td>4</td>\n",
       "    </tr>\n",
       "    <tr>\n",
       "      <th>2</th>\n",
       "      <td>882686</td>\n",
       "      <td>6</td>\n",
       "    </tr>\n",
       "    <tr>\n",
       "      <th>3</th>\n",
       "      <td>882690</td>\n",
       "      <td>2</td>\n",
       "    </tr>\n",
       "    <tr>\n",
       "      <th>4</th>\n",
       "      <td>884408</td>\n",
       "      <td>4</td>\n",
       "    </tr>\n",
       "  </tbody>\n",
       "</table>\n",
       "</div>"
      ],
      "text/plain": [
       "   operator_id  calls_count\n",
       "0       882680            3\n",
       "1       882684            4\n",
       "2       882686            6\n",
       "3       882690            2\n",
       "4       884408            4"
      ]
     },
     "execution_count": 26,
     "metadata": {},
     "output_type": "execute_result"
    }
   ],
   "source": [
    "# Calculamos las llamadas perdidas por operador\n",
    "missed_call_operator = data_set[(data_set['is_missed_call'] == True) & \n",
    "                       (data_set['direction'] == 'in')][['operator_id', 'calls_count']].groupby('operator_id').sum().reset_index()\n",
    "missed_call_operator.head()"
   ]
  },
  {
   "cell_type": "code",
   "execution_count": 27,
   "metadata": {},
   "outputs": [
    {
     "data": {
      "text/plain": [
       "239"
      ]
     },
     "execution_count": 27,
     "metadata": {},
     "output_type": "execute_result"
    }
   ],
   "source": [
    "len(missed_call_operator)"
   ]
  },
  {
   "cell_type": "code",
   "execution_count": 28,
   "metadata": {},
   "outputs": [
    {
     "data": {
      "image/png": "[encoded data removed]",
      "text/plain": [
       "<Figure size 600x400 with 1 Axes>"
      ]
     },
     "metadata": {},
     "output_type": "display_data"
    }
   ],
   "source": [
    "# Creamos un boxplot para analizar la distribución de las llamadas perdidas por operador\n",
    "plt.figure(figsize=(6, 4))  \n",
    "sns.boxplot(y=missed_call_operator['calls_count'])\n",
    "plt.title('Distribución de llamadas perdidas')\n",
    "plt.tight_layout() \n",
    "plt.show()"
   ]
  },
  {
   "cell_type": "code",
   "execution_count": 29,
   "metadata": {},
   "outputs": [
    {
     "data": {
      "image/png": "[encoded data removed]",
      "text/plain": [
       "<Figure size 600x400 with 1 Axes>"
      ]
     },
     "metadata": {},
     "output_type": "display_data"
    }
   ],
   "source": [
    "# Creamos una gráfica de barras para analizar las llamadas perdidas por operador\n",
    "plt.figure(figsize=(6, 4))  \n",
    "sns.histplot(missed_call_operator['calls_count'], kde=True, bins=20, color='skyblue')\n",
    "plt.title('Distribución de llamadas perdidas')\n",
    "plt.xlabel('Cantidad de llamadas perdidas')\n",
    "plt.ylabel('Frecuencia')\n",
    "plt.tight_layout()  \n",
    "plt.show()\n"
   ]
  },
  {
   "cell_type": "markdown",
   "metadata": {},
   "source": [
    "<div style=\"background-color: skyblue; padding: 10px; border-radius: 5px;\">\n",
    "La distribución de llamadas perdidas por operador está sesgada hacia la izquierda, es decir, muchos operadores tienen pocas llamadas perdidas, como se puede observar en el histograma. No obstante, al observar el boxplot, distinguimos una cantidad significativa de outliers hacia arriba."
   ]
  },
  {
   "cell_type": "code",
   "execution_count": 31,
   "metadata": {},
   "outputs": [
    {
     "name": "stderr",
     "output_type": "stream",
     "text": [
      "C:\\Users\\rachel\\AppData\\Local\\Temp\\ipykernel_22856\\29984478.py:3: SettingWithCopyWarning: \n",
      "A value is trying to be set on a copy of a slice from a DataFrame.\n",
      "Try using .loc[row_indexer,col_indexer] = value instead\n",
      "\n",
      "See the caveats in the documentation: https://pandas.pydata.org/pandas-docs/stable/user_guide/indexing.html#returning-a-view-versus-a-copy\n",
      "  wating_time_operator['wating_time'] = wating_time_operator['total_call_duration'] - wating_time_operator['call_duration']\n"
     ]
    },
    {
     "data": {
      "text/html": [
       "<div>\n",
       "<style scoped>\n",
       "    .dataframe tbody tr th:only-of-type {\n",
       "        vertical-align: middle;\n",
       "    }\n",
       "\n",
       "    .dataframe tbody tr th {\n",
       "        vertical-align: top;\n",
       "    }\n",
       "\n",
       "    .dataframe thead th {\n",
       "        text-align: right;\n",
       "    }\n",
       "</style>\n",
       "<table border=\"1\" class=\"dataframe\">\n",
       "  <thead>\n",
       "    <tr style=\"text-align: right;\">\n",
       "      <th></th>\n",
       "      <th>operator_id</th>\n",
       "      <th>avg_waiting_time</th>\n",
       "    </tr>\n",
       "  </thead>\n",
       "  <tbody>\n",
       "    <tr>\n",
       "      <th>657</th>\n",
       "      <td>951492</td>\n",
       "      <td>22.633333</td>\n",
       "    </tr>\n",
       "    <tr>\n",
       "      <th>466</th>\n",
       "      <td>934076</td>\n",
       "      <td>28.272727</td>\n",
       "    </tr>\n",
       "    <tr>\n",
       "      <th>592</th>\n",
       "      <td>943818</td>\n",
       "      <td>5.000000</td>\n",
       "    </tr>\n",
       "    <tr>\n",
       "      <th>288</th>\n",
       "      <td>913938</td>\n",
       "      <td>8.608313</td>\n",
       "    </tr>\n",
       "    <tr>\n",
       "      <th>667</th>\n",
       "      <td>952462</td>\n",
       "      <td>21.800000</td>\n",
       "    </tr>\n",
       "  </tbody>\n",
       "</table>\n",
       "</div>"
      ],
      "text/plain": [
       "     operator_id  avg_waiting_time\n",
       "657       951492         22.633333\n",
       "466       934076         28.272727\n",
       "592       943818          5.000000\n",
       "288       913938          8.608313\n",
       "667       952462         21.800000"
      ]
     },
     "execution_count": 31,
     "metadata": {},
     "output_type": "execute_result"
    }
   ],
   "source": [
    "# Calculamos el tiempo de espera en llamadas por operador\n",
    "wating_time_operator = data_set[data_set['direction'] == 'in']\n",
    "wating_time_operator['wating_time'] = wating_time_operator['total_call_duration'] - wating_time_operator['call_duration']\n",
    "wating_time_operator = wating_time_operator[['operator_id', 'wating_time','calls_count']].groupby('operator_id').sum().reset_index()\n",
    "wating_time_operator['avg_waiting_time'] = wating_time_operator['wating_time'] / wating_time_operator['calls_count']\n",
    "wating_time_operator.drop(columns =[ 'calls_count', 'wating_time' ], inplace = True)\n",
    "wating_time_operator.sample(5)"
   ]
  },
  {
   "cell_type": "code",
   "execution_count": 32,
   "metadata": {},
   "outputs": [
    {
     "data": {
      "image/png": "[encoded data removed]",
      "text/plain": [
       "<Figure size 600x400 with 1 Axes>"
      ]
     },
     "metadata": {},
     "output_type": "display_data"
    }
   ],
   "source": [
    "# Creamos un boxplot para analizar el promedio del tiempo de espera en llamadas por operador\n",
    "plt.figure(figsize=(6, 4)) \n",
    "sns.boxplot(y=wating_time_operator['avg_waiting_time'])# Mejorar la visualización\n",
    "plt.title('Distribución del promedio de tiempo de espera')\n",
    "plt.tight_layout()  \n",
    "plt.show()\n"
   ]
  },
  {
   "cell_type": "code",
   "execution_count": 33,
   "metadata": {},
   "outputs": [
    {
     "data": {
      "image/png": "[encoded data removed]",
      "text/plain": [
       "<Figure size 600x400 with 1 Axes>"
      ]
     },
     "metadata": {},
     "output_type": "display_data"
    }
   ],
   "source": [
    "# Creamos un histograma para analizar el promedio de tiempo de espera en llamadas por operador\n",
    "plt.figure(figsize=(6, 4)) \n",
    "sns.histplot(wating_time_operator['avg_waiting_time'], kde=True, bins=20, color='skyblue')\n",
    "plt.title('Distribución de tiempo de espera')\n",
    "plt.xlabel('Tiempo de espera')\n",
    "plt.ylabel('Frecuencia')\n",
    "plt.tight_layout()  \n",
    "plt.show()\n"
   ]
  },
  {
   "cell_type": "markdown",
   "metadata": {},
   "source": [
    "<div style=\"background-color: skyblue; padding: 10px; border-radius: 5px;\">\n",
    "En este caso, la distribución del tiempo promedio de espera por operador también se encuentra sesgada hacia la izquierda. Sin embargo, la media está más alejada de 0 que en el caso anterior. Asimismo, también podemos observar outliers."
   ]
  },
  {
   "cell_type": "code",
   "execution_count": 35,
   "metadata": {},
   "outputs": [
    {
     "data": {
      "text/html": [
       "<div>\n",
       "<style scoped>\n",
       "    .dataframe tbody tr th:only-of-type {\n",
       "        vertical-align: middle;\n",
       "    }\n",
       "\n",
       "    .dataframe tbody tr th {\n",
       "        vertical-align: top;\n",
       "    }\n",
       "\n",
       "    .dataframe thead th {\n",
       "        text-align: right;\n",
       "    }\n",
       "</style>\n",
       "<table border=\"1\" class=\"dataframe\">\n",
       "  <thead>\n",
       "    <tr style=\"text-align: right;\">\n",
       "      <th></th>\n",
       "      <th>operator_id</th>\n",
       "      <th>calls_count</th>\n",
       "    </tr>\n",
       "  </thead>\n",
       "  <tbody>\n",
       "    <tr>\n",
       "      <th>53</th>\n",
       "      <td>890422</td>\n",
       "      <td>487</td>\n",
       "    </tr>\n",
       "    <tr>\n",
       "      <th>502</th>\n",
       "      <td>932750</td>\n",
       "      <td>17</td>\n",
       "    </tr>\n",
       "    <tr>\n",
       "      <th>395</th>\n",
       "      <td>921062</td>\n",
       "      <td>8</td>\n",
       "    </tr>\n",
       "    <tr>\n",
       "      <th>511</th>\n",
       "      <td>933810</td>\n",
       "      <td>108</td>\n",
       "    </tr>\n",
       "    <tr>\n",
       "      <th>337</th>\n",
       "      <td>919128</td>\n",
       "      <td>388</td>\n",
       "    </tr>\n",
       "  </tbody>\n",
       "</table>\n",
       "</div>"
      ],
      "text/plain": [
       "     operator_id  calls_count\n",
       "53        890422          487\n",
       "502       932750           17\n",
       "395       921062            8\n",
       "511       933810          108\n",
       "337       919128          388"
      ]
     },
     "execution_count": 35,
     "metadata": {},
     "output_type": "execute_result"
    }
   ],
   "source": [
    "# Calculamos las llamadas salientes por operador.\n",
    "outbound_calls_operator = data_set[data_set['direction'] == 'out'][['operator_id', 'calls_count']].groupby('operator_id').sum().reset_index()\n",
    "outbound_calls_operator.sample(5)"
   ]
  },
  {
   "cell_type": "code",
   "execution_count": 36,
   "metadata": {},
   "outputs": [
    {
     "data": {
      "image/png": "[encoded data removed]",
      "text/plain": [
       "<Figure size 800x400 with 1 Axes>"
      ]
     },
     "metadata": {},
     "output_type": "display_data"
    }
   ],
   "source": [
    "# Creamos un boxplot para analizar la distribución de las llamadas salientes por operador.\n",
    "plt.figure(figsize=(8, 4)) \n",
    "sns.boxplot(y=outbound_calls_operator['calls_count'])\n",
    "plt.title('Distribución de llamadas salientes por operador')\n",
    "plt.tight_layout() \n",
    "plt.show()\n"
   ]
  },
  {
   "cell_type": "code",
   "execution_count": 37,
   "metadata": {},
   "outputs": [
    {
     "data": {
      "image/png": "[encoded data removed]",
      "text/plain": [
       "<Figure size 600x400 with 1 Axes>"
      ]
     },
     "metadata": {},
     "output_type": "display_data"
    }
   ],
   "source": [
    "# Creamos un histograma para analizar las llamadas salientes por operador\n",
    "plt.figure(figsize=(6, 4))  \n",
    "sns.histplot(outbound_calls_operator['calls_count'], kde=True, bins=80, color='skyblue')\n",
    "plt.title('Distribución de llamadas salientes por operador')\n",
    "plt.xlabel('Cantidad de llamadas salientes por operador')\n",
    "plt.ylabel('Frecuencia')\n",
    "plt.xlim(0, 10000)\n",
    "plt.tight_layout() \n",
    "plt.show()"
   ]
  },
  {
   "cell_type": "markdown",
   "metadata": {},
   "source": [
    "<div style=\"background-color: skyblue; padding: 10px; border-radius: 5px;\">\n",
    "En este caso, podemos observar que el número de llamadas salientes por operador se distribuye más cerca de la media, es decir, la mayoría de los operadores tienen un número de llamadas salientes similar. También podemos observar outliers, sin embargo, estos muestran un comportamiento que contribuye a la eficiencia.\n"
   ]
  },
  {
   "cell_type": "markdown",
   "metadata": {},
   "source": [
    "<div class=\"alert alert-block alert-success\">\n",
    "<b>Comentario del revisor (1ra Iteracion)</b> <a class=“tocSkip”></a>\n",
    "\n",
    "Muy bien realizado el EDA del dataset, exploraste de manera decuada cada variable y dejaste las conclusiones de lo que podías interpretar en cada sección\n",
    "</div>"
   ]
  },
  {
   "cell_type": "markdown",
   "metadata": {},
   "source": [
    "**Clasificación de Operadores: Eficientes e Ineficientes**\n",
    "\n",
    "Consideramos que un operador es ineficiente si se cumplen las tres siguientes reglas:\n",
    "1. Número de llamadas perdidas entrantes por encima de la mediana.\n",
    "2. Número de llamadas salientes por debajo de la mediana.\n",
    "3. Promedio de tiempo de espera por encima de la mediana.\n",
    "\n",
    "Consideramos que un operador es eficiente si se cumplen las tres siguientes reglas:\n",
    "1. Número de llamadas perdidas entrantes por debajo de la mediana.\n",
    "2. Número de llamadas salientes por encima de la mediana.\n",
    "3. Promedio de tiempo de espera por debajo de la mediana.\n"
   ]
  },
  {
   "cell_type": "markdown",
   "metadata": {},
   "source": [
    "Creamos un DataFrame que combina la información de llamadas perdidas, tiempo de espera y llamadas salientes para clasificar a los operadores como eficaces o ineficaces.\n"
   ]
  },
  {
   "cell_type": "code",
   "execution_count": 42,
   "metadata": {},
   "outputs": [
    {
     "data": {
      "text/html": [
       "<div>\n",
       "<style scoped>\n",
       "    .dataframe tbody tr th:only-of-type {\n",
       "        vertical-align: middle;\n",
       "    }\n",
       "\n",
       "    .dataframe tbody tr th {\n",
       "        vertical-align: top;\n",
       "    }\n",
       "\n",
       "    .dataframe thead th {\n",
       "        text-align: right;\n",
       "    }\n",
       "</style>\n",
       "<table border=\"1\" class=\"dataframe\">\n",
       "  <thead>\n",
       "    <tr style=\"text-align: right;\">\n",
       "      <th></th>\n",
       "      <th>operator_id</th>\n",
       "      <th>missed_calls</th>\n",
       "      <th>avg_waiting_time</th>\n",
       "      <th>outbound_calls</th>\n",
       "    </tr>\n",
       "  </thead>\n",
       "  <tbody>\n",
       "    <tr>\n",
       "      <th>0</th>\n",
       "      <td>879896</td>\n",
       "      <td>0.0</td>\n",
       "      <td>10.316667</td>\n",
       "      <td>1071.0</td>\n",
       "    </tr>\n",
       "    <tr>\n",
       "      <th>1</th>\n",
       "      <td>879898</td>\n",
       "      <td>0.0</td>\n",
       "      <td>15.367521</td>\n",
       "      <td>7856.0</td>\n",
       "    </tr>\n",
       "    <tr>\n",
       "      <th>2</th>\n",
       "      <td>880020</td>\n",
       "      <td>0.0</td>\n",
       "      <td>7.250000</td>\n",
       "      <td>46.0</td>\n",
       "    </tr>\n",
       "    <tr>\n",
       "      <th>3</th>\n",
       "      <td>880022</td>\n",
       "      <td>0.0</td>\n",
       "      <td>14.000000</td>\n",
       "      <td>211.0</td>\n",
       "    </tr>\n",
       "    <tr>\n",
       "      <th>4</th>\n",
       "      <td>880026</td>\n",
       "      <td>0.0</td>\n",
       "      <td>6.000000</td>\n",
       "      <td>2414.0</td>\n",
       "    </tr>\n",
       "  </tbody>\n",
       "</table>\n",
       "</div>"
      ],
      "text/plain": [
       "   operator_id  missed_calls  avg_waiting_time  outbound_calls\n",
       "0       879896           0.0         10.316667          1071.0\n",
       "1       879898           0.0         15.367521          7856.0\n",
       "2       880020           0.0          7.250000            46.0\n",
       "3       880022           0.0         14.000000           211.0\n",
       "4       880026           0.0          6.000000          2414.0"
      ]
     },
     "execution_count": 42,
     "metadata": {},
     "output_type": "execute_result"
    }
   ],
   "source": [
    "# Realizamos un df con la información requerida para poder calcular a los operadores eficaces e ineficaces \n",
    "metrics = missed_call_operator.merge(wating_time_operator, on = 'operator_id', how = 'outer')\n",
    "metrics = metrics.merge(outbound_calls_operator, on = 'operator_id', how = 'outer')\n",
    "metrics = metrics.rename(columns =  {\n",
    "    'calls_count_x' : 'missed_calls',\n",
    "    'calls_count_y' : 'outbound_calls'\n",
    "} ) \n",
    "metrics.fillna(0, inplace = True)\n",
    "metrics.head()"
   ]
  },
  {
   "cell_type": "code",
   "execution_count": 43,
   "metadata": {},
   "outputs": [
    {
     "data": {
      "text/html": [
       "<div>\n",
       "<style scoped>\n",
       "    .dataframe tbody tr th:only-of-type {\n",
       "        vertical-align: middle;\n",
       "    }\n",
       "\n",
       "    .dataframe tbody tr th {\n",
       "        vertical-align: top;\n",
       "    }\n",
       "\n",
       "    .dataframe thead th {\n",
       "        text-align: right;\n",
       "    }\n",
       "</style>\n",
       "<table border=\"1\" class=\"dataframe\">\n",
       "  <thead>\n",
       "    <tr style=\"text-align: right;\">\n",
       "      <th></th>\n",
       "      <th>operator_id</th>\n",
       "      <th>calls_count</th>\n",
       "    </tr>\n",
       "  </thead>\n",
       "  <tbody>\n",
       "    <tr>\n",
       "      <th>575</th>\n",
       "      <td>940622</td>\n",
       "      <td>729</td>\n",
       "    </tr>\n",
       "    <tr>\n",
       "      <th>350</th>\n",
       "      <td>920874</td>\n",
       "      <td>33</td>\n",
       "    </tr>\n",
       "    <tr>\n",
       "      <th>156</th>\n",
       "      <td>901886</td>\n",
       "      <td>150</td>\n",
       "    </tr>\n",
       "    <tr>\n",
       "      <th>430</th>\n",
       "      <td>930186</td>\n",
       "      <td>7</td>\n",
       "    </tr>\n",
       "    <tr>\n",
       "      <th>286</th>\n",
       "      <td>913868</td>\n",
       "      <td>19</td>\n",
       "    </tr>\n",
       "  </tbody>\n",
       "</table>\n",
       "</div>"
      ],
      "text/plain": [
       "     operator_id  calls_count\n",
       "575       940622          729\n",
       "350       920874           33\n",
       "156       901886          150\n",
       "430       930186            7\n",
       "286       913868           19"
      ]
     },
     "execution_count": 43,
     "metadata": {},
     "output_type": "execute_result"
    }
   ],
   "source": [
    "# Más adelante, para una de las pruebas de hipótesis que queremos explorar necesitaremos el número de llamadas entrantes por operador\n",
    "# Calculamos las llamadas entrantes por operador.\n",
    "inbound_calls_operator = data_set[data_set['direction'] == 'in'][['operator_id', 'calls_count']].groupby('operator_id').sum().reset_index()\n",
    "inbound_calls_operator.sample(5)"
   ]
  },
  {
   "cell_type": "code",
   "execution_count": 44,
   "metadata": {},
   "outputs": [
    {
     "data": {
      "text/html": [
       "<div>\n",
       "<style scoped>\n",
       "    .dataframe tbody tr th:only-of-type {\n",
       "        vertical-align: middle;\n",
       "    }\n",
       "\n",
       "    .dataframe tbody tr th {\n",
       "        vertical-align: top;\n",
       "    }\n",
       "\n",
       "    .dataframe thead th {\n",
       "        text-align: right;\n",
       "    }\n",
       "</style>\n",
       "<table border=\"1\" class=\"dataframe\">\n",
       "  <thead>\n",
       "    <tr style=\"text-align: right;\">\n",
       "      <th></th>\n",
       "      <th>operator_id</th>\n",
       "      <th>missed_calls</th>\n",
       "      <th>avg_waiting_time</th>\n",
       "      <th>outbound_calls</th>\n",
       "      <th>inbound_calls</th>\n",
       "    </tr>\n",
       "  </thead>\n",
       "  <tbody>\n",
       "    <tr>\n",
       "      <th>894</th>\n",
       "      <td>947636</td>\n",
       "      <td>0.0</td>\n",
       "      <td>0.000000</td>\n",
       "      <td>109.0</td>\n",
       "      <td>0.0</td>\n",
       "    </tr>\n",
       "    <tr>\n",
       "      <th>225</th>\n",
       "      <td>903292</td>\n",
       "      <td>0.0</td>\n",
       "      <td>14.093023</td>\n",
       "      <td>303.0</td>\n",
       "      <td>43.0</td>\n",
       "    </tr>\n",
       "    <tr>\n",
       "      <th>827</th>\n",
       "      <td>944474</td>\n",
       "      <td>0.0</td>\n",
       "      <td>25.000000</td>\n",
       "      <td>13.0</td>\n",
       "      <td>6.0</td>\n",
       "    </tr>\n",
       "    <tr>\n",
       "      <th>874</th>\n",
       "      <td>946454</td>\n",
       "      <td>0.0</td>\n",
       "      <td>0.000000</td>\n",
       "      <td>13.0</td>\n",
       "      <td>0.0</td>\n",
       "    </tr>\n",
       "    <tr>\n",
       "      <th>72</th>\n",
       "      <td>891166</td>\n",
       "      <td>0.0</td>\n",
       "      <td>0.000000</td>\n",
       "      <td>275.0</td>\n",
       "      <td>0.0</td>\n",
       "    </tr>\n",
       "  </tbody>\n",
       "</table>\n",
       "</div>"
      ],
      "text/plain": [
       "     operator_id  missed_calls  avg_waiting_time  outbound_calls  \\\n",
       "894       947636           0.0          0.000000           109.0   \n",
       "225       903292           0.0         14.093023           303.0   \n",
       "827       944474           0.0         25.000000            13.0   \n",
       "874       946454           0.0          0.000000            13.0   \n",
       "72        891166           0.0          0.000000           275.0   \n",
       "\n",
       "     inbound_calls  \n",
       "894            0.0  \n",
       "225           43.0  \n",
       "827            6.0  \n",
       "874            0.0  \n",
       "72             0.0  "
      ]
     },
     "execution_count": 44,
     "metadata": {},
     "output_type": "execute_result"
    }
   ],
   "source": [
    "# incluimos esta nueva columna en el dataset denominado metrics\n",
    "metrics = metrics.merge(inbound_calls_operator, on = 'operator_id', how = 'left').fillna(0)\n",
    "metrics = metrics.rename(columns = {'calls_count': 'inbound_calls'})\n",
    "metrics.sample(5)"
   ]
  },
  {
   "cell_type": "code",
   "execution_count": 45,
   "metadata": {},
   "outputs": [],
   "source": [
    "# Establecemos los límites de los cuartiles para identificar la mediana de las variables de interés: \n",
    "# llamadas perdidas, tiempo de espera y llamadas salientes.\n",
    "missed_call_limit = missed_call_operator['calls_count'].quantile(0.5)\n",
    "waiting_time_limit = wating_time_operator['avg_waiting_time'].quantile(0.5)\n",
    "outbound_call_limit = outbound_calls_operator['calls_count'].quantile(0.5)"
   ]
  },
  {
   "cell_type": "code",
   "execution_count": 46,
   "metadata": {},
   "outputs": [
    {
     "name": "stdout",
     "output_type": "stream",
     "text": [
      "2.0\n",
      "14.395385304659499\n",
      "101.0\n"
     ]
    }
   ],
   "source": [
    "print(missed_call_limit) \n",
    "print(waiting_time_limit)\n",
    "print(outbound_call_limit) "
   ]
  },
  {
   "cell_type": "code",
   "execution_count": 47,
   "metadata": {},
   "outputs": [
    {
     "data": {
      "text/html": [
       "<div>\n",
       "<style scoped>\n",
       "    .dataframe tbody tr th:only-of-type {\n",
       "        vertical-align: middle;\n",
       "    }\n",
       "\n",
       "    .dataframe tbody tr th {\n",
       "        vertical-align: top;\n",
       "    }\n",
       "\n",
       "    .dataframe thead th {\n",
       "        text-align: right;\n",
       "    }\n",
       "</style>\n",
       "<table border=\"1\" class=\"dataframe\">\n",
       "  <thead>\n",
       "    <tr style=\"text-align: right;\">\n",
       "      <th></th>\n",
       "      <th>operator_id</th>\n",
       "      <th>missed_calls</th>\n",
       "      <th>avg_waiting_time</th>\n",
       "      <th>outbound_calls</th>\n",
       "      <th>inbound_calls</th>\n",
       "    </tr>\n",
       "  </thead>\n",
       "  <tbody>\n",
       "    <tr>\n",
       "      <th>10</th>\n",
       "      <td>882680</td>\n",
       "      <td>3.0</td>\n",
       "      <td>15.660550</td>\n",
       "      <td>0.0</td>\n",
       "      <td>109.0</td>\n",
       "    </tr>\n",
       "    <tr>\n",
       "      <th>22</th>\n",
       "      <td>884408</td>\n",
       "      <td>4.0</td>\n",
       "      <td>26.195122</td>\n",
       "      <td>25.0</td>\n",
       "      <td>41.0</td>\n",
       "    </tr>\n",
       "    <tr>\n",
       "      <th>104</th>\n",
       "      <td>893402</td>\n",
       "      <td>3.0</td>\n",
       "      <td>16.204360</td>\n",
       "      <td>56.0</td>\n",
       "      <td>367.0</td>\n",
       "    </tr>\n",
       "    <tr>\n",
       "      <th>123</th>\n",
       "      <td>895574</td>\n",
       "      <td>3.0</td>\n",
       "      <td>15.202020</td>\n",
       "      <td>0.0</td>\n",
       "      <td>99.0</td>\n",
       "    </tr>\n",
       "    <tr>\n",
       "      <th>144</th>\n",
       "      <td>896536</td>\n",
       "      <td>2.0</td>\n",
       "      <td>20.990385</td>\n",
       "      <td>0.0</td>\n",
       "      <td>208.0</td>\n",
       "    </tr>\n",
       "  </tbody>\n",
       "</table>\n",
       "</div>"
      ],
      "text/plain": [
       "     operator_id  missed_calls  avg_waiting_time  outbound_calls  \\\n",
       "10        882680           3.0         15.660550             0.0   \n",
       "22        884408           4.0         26.195122            25.0   \n",
       "104       893402           3.0         16.204360            56.0   \n",
       "123       895574           3.0         15.202020             0.0   \n",
       "144       896536           2.0         20.990385             0.0   \n",
       "\n",
       "     inbound_calls  \n",
       "10           109.0  \n",
       "22            41.0  \n",
       "104          367.0  \n",
       "123           99.0  \n",
       "144          208.0  "
      ]
     },
     "execution_count": 47,
     "metadata": {},
     "output_type": "execute_result"
    }
   ],
   "source": [
    "# Calculamos a los operadores ineficientes con respecto a las métricas\n",
    "ineficientes = metrics[(metrics['missed_calls']>=missed_call_limit)&\n",
    "               (metrics['avg_waiting_time']>=waiting_time_limit)&\n",
    "               (metrics['outbound_calls']<=outbound_call_limit)]\n",
    "ineficientes.head()"
   ]
  },
  {
   "cell_type": "code",
   "execution_count": 48,
   "metadata": {},
   "outputs": [
    {
     "data": {
      "text/html": [
       "<div>\n",
       "<style scoped>\n",
       "    .dataframe tbody tr th:only-of-type {\n",
       "        vertical-align: middle;\n",
       "    }\n",
       "\n",
       "    .dataframe tbody tr th {\n",
       "        vertical-align: top;\n",
       "    }\n",
       "\n",
       "    .dataframe thead th {\n",
       "        text-align: right;\n",
       "    }\n",
       "</style>\n",
       "<table border=\"1\" class=\"dataframe\">\n",
       "  <thead>\n",
       "    <tr style=\"text-align: right;\">\n",
       "      <th></th>\n",
       "      <th>operator_id</th>\n",
       "      <th>missed_calls</th>\n",
       "      <th>avg_waiting_time</th>\n",
       "      <th>outbound_calls</th>\n",
       "      <th>inbound_calls</th>\n",
       "    </tr>\n",
       "  </thead>\n",
       "  <tbody>\n",
       "    <tr>\n",
       "      <th>count</th>\n",
       "      <td>31.000000</td>\n",
       "      <td>31.000000</td>\n",
       "      <td>31.000000</td>\n",
       "      <td>31.000000</td>\n",
       "      <td>31.000000</td>\n",
       "    </tr>\n",
       "    <tr>\n",
       "      <th>mean</th>\n",
       "      <td>914300.193548</td>\n",
       "      <td>3.709677</td>\n",
       "      <td>22.805360</td>\n",
       "      <td>19.322581</td>\n",
       "      <td>183.580645</td>\n",
       "    </tr>\n",
       "    <tr>\n",
       "      <th>std</th>\n",
       "      <td>17547.616684</td>\n",
       "      <td>3.378299</td>\n",
       "      <td>6.996800</td>\n",
       "      <td>27.860829</td>\n",
       "      <td>274.798080</td>\n",
       "    </tr>\n",
       "    <tr>\n",
       "      <th>min</th>\n",
       "      <td>882680.000000</td>\n",
       "      <td>2.000000</td>\n",
       "      <td>14.830508</td>\n",
       "      <td>0.000000</td>\n",
       "      <td>6.000000</td>\n",
       "    </tr>\n",
       "    <tr>\n",
       "      <th>25%</th>\n",
       "      <td>902029.000000</td>\n",
       "      <td>2.000000</td>\n",
       "      <td>18.019121</td>\n",
       "      <td>0.000000</td>\n",
       "      <td>31.500000</td>\n",
       "    </tr>\n",
       "    <tr>\n",
       "      <th>50%</th>\n",
       "      <td>911138.000000</td>\n",
       "      <td>2.000000</td>\n",
       "      <td>20.990385</td>\n",
       "      <td>0.000000</td>\n",
       "      <td>93.000000</td>\n",
       "    </tr>\n",
       "    <tr>\n",
       "      <th>75%</th>\n",
       "      <td>929517.000000</td>\n",
       "      <td>4.000000</td>\n",
       "      <td>26.197561</td>\n",
       "      <td>40.500000</td>\n",
       "      <td>226.000000</td>\n",
       "    </tr>\n",
       "    <tr>\n",
       "      <th>max</th>\n",
       "      <td>948286.000000</td>\n",
       "      <td>18.000000</td>\n",
       "      <td>45.615385</td>\n",
       "      <td>89.000000</td>\n",
       "      <td>1345.000000</td>\n",
       "    </tr>\n",
       "  </tbody>\n",
       "</table>\n",
       "</div>"
      ],
      "text/plain": [
       "         operator_id  missed_calls  avg_waiting_time  outbound_calls  \\\n",
       "count      31.000000     31.000000         31.000000       31.000000   \n",
       "mean   914300.193548      3.709677         22.805360       19.322581   \n",
       "std     17547.616684      3.378299          6.996800       27.860829   \n",
       "min    882680.000000      2.000000         14.830508        0.000000   \n",
       "25%    902029.000000      2.000000         18.019121        0.000000   \n",
       "50%    911138.000000      2.000000         20.990385        0.000000   \n",
       "75%    929517.000000      4.000000         26.197561       40.500000   \n",
       "max    948286.000000     18.000000         45.615385       89.000000   \n",
       "\n",
       "       inbound_calls  \n",
       "count      31.000000  \n",
       "mean      183.580645  \n",
       "std       274.798080  \n",
       "min         6.000000  \n",
       "25%        31.500000  \n",
       "50%        93.000000  \n",
       "75%       226.000000  \n",
       "max      1345.000000  "
      ]
     },
     "execution_count": 48,
     "metadata": {},
     "output_type": "execute_result"
    }
   ],
   "source": [
    "# Generamos estadísticas descriptivas para los operadores ineficientes.\n",
    "ineficientes.describe()"
   ]
  },
  {
   "cell_type": "markdown",
   "metadata": {},
   "source": [
    "<div style=\"background-color: skyblue; padding: 10px; border-radius: 5px;\">\n",
    "Encontramos 31 operadores ineficientes. En promedio, estos operadores tienen casi 4 llamadas perdidas, un tiempo de espera de casi 23 segundos y 19 llamadas salientes. Considerando la desviación estándar, podemos observar que el promedio de tiempo de espera está poco disperso entre los operadores ineficientes, es decir, la mayoría tiene un valor similar alrededor de la media. En el caso de las llamadas salientes, la mayoría de los operadores ineficientes tienen 0 llamadas salientes. Si observamos los cuantiles de llamadas perdidas, podemos ver que los datos también están poco dispersos."
   ]
  },
  {
   "cell_type": "code",
   "execution_count": 50,
   "metadata": {},
   "outputs": [
    {
     "data": {
      "text/html": [
       "<div>\n",
       "<style scoped>\n",
       "    .dataframe tbody tr th:only-of-type {\n",
       "        vertical-align: middle;\n",
       "    }\n",
       "\n",
       "    .dataframe tbody tr th {\n",
       "        vertical-align: top;\n",
       "    }\n",
       "\n",
       "    .dataframe thead th {\n",
       "        text-align: right;\n",
       "    }\n",
       "</style>\n",
       "<table border=\"1\" class=\"dataframe\">\n",
       "  <thead>\n",
       "    <tr style=\"text-align: right;\">\n",
       "      <th></th>\n",
       "      <th>operator_id</th>\n",
       "      <th>missed_calls</th>\n",
       "      <th>avg_waiting_time</th>\n",
       "      <th>outbound_calls</th>\n",
       "      <th>inbound_calls</th>\n",
       "    </tr>\n",
       "  </thead>\n",
       "  <tbody>\n",
       "    <tr>\n",
       "      <th>0</th>\n",
       "      <td>879896</td>\n",
       "      <td>0.0</td>\n",
       "      <td>10.316667</td>\n",
       "      <td>1071.0</td>\n",
       "      <td>60.0</td>\n",
       "    </tr>\n",
       "    <tr>\n",
       "      <th>3</th>\n",
       "      <td>880022</td>\n",
       "      <td>0.0</td>\n",
       "      <td>14.000000</td>\n",
       "      <td>211.0</td>\n",
       "      <td>8.0</td>\n",
       "    </tr>\n",
       "    <tr>\n",
       "      <th>4</th>\n",
       "      <td>880026</td>\n",
       "      <td>0.0</td>\n",
       "      <td>6.000000</td>\n",
       "      <td>2414.0</td>\n",
       "      <td>25.0</td>\n",
       "    </tr>\n",
       "    <tr>\n",
       "      <th>5</th>\n",
       "      <td>880028</td>\n",
       "      <td>0.0</td>\n",
       "      <td>5.685714</td>\n",
       "      <td>2836.0</td>\n",
       "      <td>70.0</td>\n",
       "    </tr>\n",
       "    <tr>\n",
       "      <th>17</th>\n",
       "      <td>883940</td>\n",
       "      <td>0.0</td>\n",
       "      <td>12.500000</td>\n",
       "      <td>686.0</td>\n",
       "      <td>8.0</td>\n",
       "    </tr>\n",
       "  </tbody>\n",
       "</table>\n",
       "</div>"
      ],
      "text/plain": [
       "    operator_id  missed_calls  avg_waiting_time  outbound_calls  inbound_calls\n",
       "0        879896           0.0         10.316667          1071.0           60.0\n",
       "3        880022           0.0         14.000000           211.0            8.0\n",
       "4        880026           0.0          6.000000          2414.0           25.0\n",
       "5        880028           0.0          5.685714          2836.0           70.0\n",
       "17       883940           0.0         12.500000           686.0            8.0"
      ]
     },
     "execution_count": 50,
     "metadata": {},
     "output_type": "execute_result"
    }
   ],
   "source": [
    "# Calculamos a los operadores eficientes con respecto a las métricas\n",
    "eficientes = metrics[(metrics['missed_calls']<=missed_call_limit)&\n",
    "             (metrics['avg_waiting_time']<=waiting_time_limit)&\n",
    "             (metrics['outbound_calls']>=outbound_call_limit)]\n",
    "eficientes.head()"
   ]
  },
  {
   "cell_type": "code",
   "execution_count": 51,
   "metadata": {},
   "outputs": [
    {
     "data": {
      "text/html": [
       "<div>\n",
       "<style scoped>\n",
       "    .dataframe tbody tr th:only-of-type {\n",
       "        vertical-align: middle;\n",
       "    }\n",
       "\n",
       "    .dataframe tbody tr th {\n",
       "        vertical-align: top;\n",
       "    }\n",
       "\n",
       "    .dataframe thead th {\n",
       "        text-align: right;\n",
       "    }\n",
       "</style>\n",
       "<table border=\"1\" class=\"dataframe\">\n",
       "  <thead>\n",
       "    <tr style=\"text-align: right;\">\n",
       "      <th></th>\n",
       "      <th>operator_id</th>\n",
       "      <th>missed_calls</th>\n",
       "      <th>avg_waiting_time</th>\n",
       "      <th>outbound_calls</th>\n",
       "      <th>inbound_calls</th>\n",
       "    </tr>\n",
       "  </thead>\n",
       "  <tbody>\n",
       "    <tr>\n",
       "      <th>count</th>\n",
       "      <td>294.000000</td>\n",
       "      <td>294.000000</td>\n",
       "      <td>294.000000</td>\n",
       "      <td>294.000000</td>\n",
       "      <td>294.000000</td>\n",
       "    </tr>\n",
       "    <tr>\n",
       "      <th>mean</th>\n",
       "      <td>925615.782313</td>\n",
       "      <td>0.166667</td>\n",
       "      <td>4.212012</td>\n",
       "      <td>1272.343537</td>\n",
       "      <td>62.860544</td>\n",
       "    </tr>\n",
       "    <tr>\n",
       "      <th>std</th>\n",
       "      <td>21297.572264</td>\n",
       "      <td>0.470398</td>\n",
       "      <td>5.205630</td>\n",
       "      <td>2084.974084</td>\n",
       "      <td>145.028740</td>\n",
       "    </tr>\n",
       "    <tr>\n",
       "      <th>min</th>\n",
       "      <td>879896.000000</td>\n",
       "      <td>0.000000</td>\n",
       "      <td>0.000000</td>\n",
       "      <td>102.000000</td>\n",
       "      <td>0.000000</td>\n",
       "    </tr>\n",
       "    <tr>\n",
       "      <th>25%</th>\n",
       "      <td>906945.000000</td>\n",
       "      <td>0.000000</td>\n",
       "      <td>0.000000</td>\n",
       "      <td>286.250000</td>\n",
       "      <td>0.000000</td>\n",
       "    </tr>\n",
       "    <tr>\n",
       "      <th>50%</th>\n",
       "      <td>925031.000000</td>\n",
       "      <td>0.000000</td>\n",
       "      <td>0.000000</td>\n",
       "      <td>730.000000</td>\n",
       "      <td>0.000000</td>\n",
       "    </tr>\n",
       "    <tr>\n",
       "      <th>75%</th>\n",
       "      <td>945279.500000</td>\n",
       "      <td>0.000000</td>\n",
       "      <td>9.017350</td>\n",
       "      <td>1617.250000</td>\n",
       "      <td>53.500000</td>\n",
       "    </tr>\n",
       "    <tr>\n",
       "      <th>max</th>\n",
       "      <td>969272.000000</td>\n",
       "      <td>2.000000</td>\n",
       "      <td>14.368421</td>\n",
       "      <td>24572.000000</td>\n",
       "      <td>1016.000000</td>\n",
       "    </tr>\n",
       "  </tbody>\n",
       "</table>\n",
       "</div>"
      ],
      "text/plain": [
       "         operator_id  missed_calls  avg_waiting_time  outbound_calls  \\\n",
       "count     294.000000    294.000000        294.000000      294.000000   \n",
       "mean   925615.782313      0.166667          4.212012     1272.343537   \n",
       "std     21297.572264      0.470398          5.205630     2084.974084   \n",
       "min    879896.000000      0.000000          0.000000      102.000000   \n",
       "25%    906945.000000      0.000000          0.000000      286.250000   \n",
       "50%    925031.000000      0.000000          0.000000      730.000000   \n",
       "75%    945279.500000      0.000000          9.017350     1617.250000   \n",
       "max    969272.000000      2.000000         14.368421    24572.000000   \n",
       "\n",
       "       inbound_calls  \n",
       "count     294.000000  \n",
       "mean       62.860544  \n",
       "std       145.028740  \n",
       "min         0.000000  \n",
       "25%         0.000000  \n",
       "50%         0.000000  \n",
       "75%        53.500000  \n",
       "max      1016.000000  "
      ]
     },
     "execution_count": 51,
     "metadata": {},
     "output_type": "execute_result"
    }
   ],
   "source": [
    "# Generamos estadísticas descriptivas para los operadores eficientes.\n",
    "eficientes.describe()"
   ]
  },
  {
   "cell_type": "markdown",
   "metadata": {},
   "source": [
    "<div style=\"background-color: skyblue; padding: 10px; border-radius: 5px;\">\n",
    "Encontramos 294 operadores eficientes, que en promedio tienen menos de 0.2 llamadas perdidas, 4.2 segundos de tiempo de espera y casi 1300 llamadas salientes. En general, podemos observar que los operadores eficientes tienen un número muy bajo de llamadas perdidas y un tiempo promedio de espera bajo, mientras que todos tienen al menos 100 llamadas salientes en el periodo observado, destacando que el 25% más alto tiene más de 1600 llamadas salientes."
   ]
  },
  {
   "cell_type": "code",
   "execution_count": 53,
   "metadata": {},
   "outputs": [
    {
     "data": {
      "image/png": "[encoded data removed]",
      "text/plain": [
       "<Figure size 800x600 with 1 Axes>"
      ]
     },
     "metadata": {},
     "output_type": "display_data"
    }
   ],
   "source": [
    "# Realizamos un gráfico de dispersión para observar a los operadores ineficientes y eficientes\n",
    "plt.figure(figsize=(8, 6))\n",
    "\n",
    "# Graficamos ineficientes \n",
    "plt.scatter(ineficientes['missed_calls'], ineficientes['avg_waiting_time'], \n",
    "            color='red', label='Ineficientes', alpha=0.7)\n",
    "\n",
    "# Graficamos eficientes \n",
    "plt.scatter(eficientes['missed_calls'], eficientes['avg_waiting_time'], \n",
    "            color='green', label='Eficientes', alpha=0.7)\n",
    "\n",
    "# Añadimos etiquetas y título\n",
    "plt.title('Comparación entre Operadores Eficientes e Ineficientes')\n",
    "plt.xlabel('Llamadas Perdidas')\n",
    "plt.ylabel('Tiempo Promedio de Espera (segundos)')\n",
    "plt.legend()\n",
    "plt.show()\n"
   ]
  },
  {
   "cell_type": "markdown",
   "metadata": {},
   "source": [
    "<div style=\"background-color: skyblue; padding: 10px; border-radius: 5px;\">\n",
    "El diagrama de dispersión muestra una clara diferencia entre operadores eficientes e ineficientes. Los eficientes tienen pocas llamadas perdidas y tiempos de espera cortos, mientras que los ineficientes presentan valores más altos y dispersos en ambas métricas. Se observa una correlación positiva: a mayor número de llamadas perdidas, mayor tiempo de espera. Además, los ineficientes exhiben una mayor variabilidad, con casos extremos donde se superan las 10 llamadas perdidas y los 30 segundos de espera."
   ]
  },
  {
   "cell_type": "markdown",
   "metadata": {},
   "source": [
    "Como hemos observado en las gráficas, existe una clara diferencia entre los operadores eficientes e ineficientes. Para corroborarlo, aplicaremos pruebas estadísticas que nos ayuden a validar nuestras hipótesis. Si bien identificamos outliers, decidimos no eliminarlos, ya que son clave en la clasificación. Sabemos que en la prueba t de Student la distribución de los datos puede influir en los resultados; sin embargo, la realizaremos para compararla con la prueba de Mann-Whitney U, que es más robusta frente a valores atípicos, ya que no depende de las medias ni de las varianzas."
   ]
  },
  {
   "cell_type": "markdown",
   "metadata": {},
   "source": [
    "**Comprobación de hipótesis**"
   ]
  },
  {
   "cell_type": "markdown",
   "metadata": {},
   "source": [
    "**Hipótesis 1:** \n",
    "\n",
    "\"Los operadores con un mayor número de llamadas entrantes tienen una mayor tasa de llamadas perdidas.\" \n",
    "\n",
    "Hipótesis nula (H0): \n",
    "No existe una relación significativa entre el número de llamadas entrantes y la tasa de llamadas perdidas.\n",
    "\n",
    "Hipótesis alternativa (H1): \n",
    "Existe una relación significativa entre el número de llamadas entrantes y la tasa de llamadas perdidas. A medida que aumenta el número de llamadas entrantes, también aumenta la tasa de llamadas perdidas."
   ]
  },
  {
   "cell_type": "code",
   "execution_count": 58,
   "metadata": {},
   "outputs": [
    {
     "name": "stdout",
     "output_type": "stream",
     "text": [
      "Estadístico t: 9.084910300281072\n",
      "Valor p: 4.764518573516308e-19\n",
      "La diferencia es significativa\n"
     ]
    }
   ],
   "source": [
    "# Dividimos los operadores en dos grupos según el número de llamadas salientes \n",
    "# (por encima o por debajo de la mediana)\n",
    "\n",
    "median_outbound_calls = metrics['inbound_calls'].median()\n",
    "\n",
    "grupo_mas_llamadas = metrics[metrics['inbound_calls'] > median_outbound_calls]['missed_calls']\n",
    "grupo_menos_llamadas = metrics[metrics['inbound_calls'] <= median_outbound_calls]['missed_calls']\n",
    "\n",
    "# Realizamos la prueba t de Student\n",
    "t_stat, p_value = ttest_ind(grupo_mas_llamadas, grupo_menos_llamadas)\n",
    "\n",
    "print(f\"Estadístico t: {t_stat}\")\n",
    "print(f\"Valor p: {p_value}\")\n",
    "if p_value < 0.05:\n",
    "    print('La diferencia es significativa')\n",
    "else:\n",
    "    print('La diferencia no es significativa')"
   ]
  },
  {
   "cell_type": "markdown",
   "metadata": {},
   "source": [
    "<div style=\"background-color: skyblue; padding: 10px; border-radius: 5px;\">\n",
    "El valor p obtenido es mucho menor que 0.05, lo que nos permite rechazar la hipótesis nula (H0) y confirmar la hipótesis alternativa(H1): existe una relación estadísticamente significativa entre el número de llamadas entrantes y la tasa de llamadas perdidas.\n",
    "\n",
    "Las visualizaciones previas ya mostraban esta tendencia y los resultados de la prueba t la respaldan con evidencia estadística sólida. Por lo tanto, podemos concluir que los operadores que manejan un mayor volumen de llamadas entrantes también presentan una mayor tasa de llamadas perdidas, lo que sugiere posibles limitaciones en la capacidad de respuesta o gestión de la carga de trabajo."
   ]
  },
  {
   "cell_type": "code",
   "execution_count": 60,
   "metadata": {},
   "outputs": [
    {
     "name": "stdout",
     "output_type": "stream",
     "text": [
      "Estadístico U: 212746.5\n",
      "Valor p: 1.9212149132446468e-64\n",
      "La diferencia es significativa\n"
     ]
    }
   ],
   "source": [
    "# Realizamos la prueba de Mann-Whitney U para comparar los dos grupos y comparar el resultado con la prueba T\n",
    "u_stat, p_value = mannwhitneyu(grupo_mas_llamadas, grupo_menos_llamadas)\n",
    "\n",
    "print(f\"Estadístico U: {u_stat}\")\n",
    "print(f\"Valor p: {p_value}\")\n",
    "if p_value < 0.05:\n",
    "    print('La diferencia es significativa')\n",
    "else:\n",
    "    print('La diferencia no es significativa')"
   ]
  },
  {
   "cell_type": "markdown",
   "metadata": {},
   "source": [
    "<div style=\"background-color: skyblue; padding: 10px; border-radius: 5px;\">\n",
    "Dado que el valor p es extremadamente bajo (menor que 0.05), podemos rechazar la hipótesis nula (H0), lo que indica que existe una diferencia significativa entre ambos grupos. Esto respalda la hipótesis alternativa (H1), lo que sugiere que los operadores con más llamadas entrantes tienden a tener una mayor tasa de llamadas perdidas en comparación con aquellos con menos llamadas entrantes."
   ]
  },
  {
   "cell_type": "markdown",
   "metadata": {},
   "source": [
    "Análisis de ambas pruebas:\n",
    "\n",
    "Dado que ambas pruebas indican una relación significativa, podemos afirmar con confianza que los operadores con más llamadas entrantes tienen una mayor tasa de llamadas perdidas. Sin embargo, la prueba de Mann-Whitney U ofrece una validación más robusta, ya que no depende de la normalidad de los datos, lo que la hace más adecuada en este caso."
   ]
  },
  {
   "cell_type": "markdown",
   "metadata": {},
   "source": [
    "**Hipótesis 2:** \n",
    "\n",
    "Hipótesis sobre la relación entre las llamadas perdidas y el tiempo de espera:\n",
    "\n",
    "Hipótesis: \"El tiempo de espera no impacta el número de llamadas perdidas.\"\n",
    "\n",
    "Hipótesis nula (H0): No existe una diferencia significativa en el número de llamadas perdidas entre los operados con alto tiempo de espera vs los operadores con bajo tiempo de espera.\n",
    "\n",
    "Hipótesis alternativa (H1): Existe una diferencia significativa entre en el número de llamadas perdidas entre los operados con alto tiempo de espera vs los operadores con bajo tiempo de espera."
   ]
  },
  {
   "cell_type": "code",
   "execution_count": 64,
   "metadata": {},
   "outputs": [
    {
     "name": "stdout",
     "output_type": "stream",
     "text": [
      "Estadístico U: 174300.0\n",
      "Valor p: 2.0630579439606674e-11\n",
      "La diferencia es significativa\n"
     ]
    }
   ],
   "source": [
    "# Dividimos los operadores en dos grupos según el número de llamadas salientes (por encima o por debajo de la mediana)\n",
    "median_avg_waiting_time_calls = metrics['avg_waiting_time'].median()\n",
    "\n",
    "grupo_mas_tiempo_espera_llamadas = metrics[metrics['avg_waiting_time'] > median_avg_waiting_time_calls]['missed_calls']\n",
    "grupo_menos_tiempo_espera_llamadas = metrics[metrics['avg_waiting_time'] <= median_avg_waiting_time_calls]['missed_calls']\n",
    "\n",
    "# Ahora aplicamos la prueba de Mann-Whitney U\n",
    "stat, p_value = mannwhitneyu(grupo_mas_tiempo_espera_llamadas, grupo_menos_tiempo_espera_llamadas)\n",
    "\n",
    "# Imprimimos los resultados\n",
    "print(f\"Estadístico U: {stat}\")\n",
    "print(f\"Valor p: {p_value}\")\n",
    "if p_value < 0.05:\n",
    "    print('La diferencia es significativa')\n",
    "else:\n",
    "    print('La diferencia no es significativa')"
   ]
  },
  {
   "cell_type": "markdown",
   "metadata": {},
   "source": [
    "<div style=\"background-color: skyblue; padding: 10px; border-radius: 5px;\">\n",
    "Según los resultados de la prueba de Mann-Whitney U, podemos concluir que existe una diferencia significativa en el número de llamadas perdidas entre los operadores con tiempos de espera altos y los operadores con tiempos de espera bajos. Específicamente, los operadores que tardan más en responder tienden a tener un mayor número de llamadas perdidas."
   ]
  },
  {
   "cell_type": "markdown",
   "metadata": {},
   "source": [
    "<div class=\"alert alert-block alert-success\">\n",
    "<b>Comentario del revisor (1ra Iteracion)</b> <a class=“tocSkip”></a>\n",
    "\n",
    "Perfecto, planteaste de manera adecuada las hipótesis a probar con las pruebas estadísticas, buen trabajo!\n",
    "</div>"
   ]
  },
  {
   "cell_type": "markdown",
   "metadata": {},
   "source": [
    "**Conclusión General**\n",
    "\n",
    "A través del análisis de las métricas de desempeño de los operadores (llamadas perdidas, tiempo de espera y llamadas salientes), se identificaron dos grupos claramente diferenciados: operadores eficientes e ineficientes. Los operadores eficientes muestran una capacidad sobresaliente para manejar el volumen de llamadas, lo que se refleja en un bajo número de llamadas perdidas y tiempos de espera reducidos, así como un alto número de llamadas salientes. En contraste, los operadores ineficientes experimentan tiempos de espera elevados y una alta tasa de llamadas perdidas, lo que indica problemas operativos potenciales, tales como una sobrecarga de trabajo, fallas en los sistemas o falta de capacitación.\n",
    "\n",
    "El análisis estadístico corroboró la existencia de una relación significativa entre el volumen de llamadas entrantes y las llamadas perdidas, sugiriendo que los operadores con más llamadas entrantes tienen más dificultades para gestionar eficientemente la carga de trabajo. Además, la correlación entre tiempos de espera largos y un mayor número de llamadas perdidas destaca la necesidad de optimizar los tiempos de respuesta."
   ]
  },
  {
   "cell_type": "markdown",
   "metadata": {},
   "source": [
    "**Recomendaciones:**\n",
    "\n",
    "- Revisión de la Asignación de Llamadas:\n",
    "Evaluar si los operadores ineficientes están recibiendo un volumen de llamadas desproporcionado y considerar una redistribución más equitativa. \n",
    "\n",
    "- Entrenamiento y Capacitación:\n",
    "Implementar programas de capacitación enfocados en la gestión del tiempo y la eficiencia operativa. Esto puede reducir los tiempos de espera y mejorar la calidad en la atención a los usuarios.\n",
    "\n",
    "- Optimización de Software:\n",
    "Considerar la mejora de los sistemas de gestión de llamadas, posiblemente mediante la implementación de software de enrutamiento inteligente que distribuya las llamadas de manera más eficiente entre los operadores.\n",
    "\n",
    "- Revisión de la Infraestructura:\n",
    "Evaluar la posibilidad de aumentar el número de operadores en turnos de alta demanda o invertir en herramientas que faciliten la gestión de llamadas, asegurando que los operadores puedan atender más eficientemente sin sobrecargarse.\n",
    "\n",
    "- Monitoreo Continuo:\n",
    "Implementar un sistema de monitoreo en tiempo real para detectar a los operadores que están teniendo dificultades y actuar rápidamente para brindarles apoyo adicional o redistribuir llamadas antes de que se generen problemas."
   ]
  },
  {
   "cell_type": "code",
   "execution_count": null,
   "metadata": {},
   "outputs": [],
   "source": []
  }
 ],
 "metadata": {
  "ExecuteTimeLog": [
   {
    "duration": 2538,
    "start_time": "2025-03-23T22:25:34.757Z"
   },
   {
    "duration": 600,
    "start_time": "2025-03-23T22:25:37.298Z"
   },
   {
    "duration": 0,
    "start_time": "2025-03-23T22:25:37.901Z"
   },
   {
    "duration": 0,
    "start_time": "2025-03-23T22:25:37.902Z"
   },
   {
    "duration": 0,
    "start_time": "2025-03-23T22:25:37.904Z"
   },
   {
    "duration": 0,
    "start_time": "2025-03-23T22:25:37.905Z"
   },
   {
    "duration": 0,
    "start_time": "2025-03-23T22:25:37.906Z"
   },
   {
    "duration": 0,
    "start_time": "2025-03-23T22:25:37.907Z"
   },
   {
    "duration": 0,
    "start_time": "2025-03-23T22:25:37.908Z"
   },
   {
    "duration": 0,
    "start_time": "2025-03-23T22:25:37.909Z"
   },
   {
    "duration": 0,
    "start_time": "2025-03-23T22:25:37.910Z"
   },
   {
    "duration": 0,
    "start_time": "2025-03-23T22:25:37.911Z"
   },
   {
    "duration": 0,
    "start_time": "2025-03-23T22:25:37.912Z"
   },
   {
    "duration": 0,
    "start_time": "2025-03-23T22:25:37.913Z"
   },
   {
    "duration": 0,
    "start_time": "2025-03-23T22:25:37.915Z"
   },
   {
    "duration": 0,
    "start_time": "2025-03-23T22:25:37.916Z"
   },
   {
    "duration": 0,
    "start_time": "2025-03-23T22:25:37.943Z"
   },
   {
    "duration": 0,
    "start_time": "2025-03-23T22:25:37.946Z"
   },
   {
    "duration": 0,
    "start_time": "2025-03-23T22:25:37.947Z"
   },
   {
    "duration": 0,
    "start_time": "2025-03-23T22:25:37.948Z"
   },
   {
    "duration": 0,
    "start_time": "2025-03-23T22:25:37.949Z"
   },
   {
    "duration": 1,
    "start_time": "2025-03-23T22:25:37.949Z"
   },
   {
    "duration": 0,
    "start_time": "2025-03-23T22:25:37.951Z"
   },
   {
    "duration": 0,
    "start_time": "2025-03-23T22:25:37.952Z"
   },
   {
    "duration": 0,
    "start_time": "2025-03-23T22:25:37.953Z"
   },
   {
    "duration": 0,
    "start_time": "2025-03-23T22:25:37.955Z"
   },
   {
    "duration": 0,
    "start_time": "2025-03-23T22:25:37.956Z"
   },
   {
    "duration": 0,
    "start_time": "2025-03-23T22:25:37.958Z"
   },
   {
    "duration": 0,
    "start_time": "2025-03-23T22:25:37.959Z"
   },
   {
    "duration": 0,
    "start_time": "2025-03-23T22:25:37.961Z"
   },
   {
    "duration": 0,
    "start_time": "2025-03-23T22:25:37.962Z"
   },
   {
    "duration": 0,
    "start_time": "2025-03-23T22:25:37.964Z"
   },
   {
    "duration": 0,
    "start_time": "2025-03-23T22:25:37.966Z"
   }
  ],
  "kernelspec": {
   "display_name": "Python 3 (ipykernel)",
   "language": "python",
   "name": "python3"
  },
  "language_info": {
   "codemirror_mode": {
    "name": "ipython",
    "version": 3
   },
   "file_extension": ".py",
   "mimetype": "text/x-python",
   "name": "python",
   "nbconvert_exporter": "python",
   "pygments_lexer": "ipython3",
   "version": "3.12.4"
  },
  "toc": {
   "base_numbering": 1,
   "nav_menu": {},
   "number_sections": true,
   "sideBar": true,
   "skip_h1_title": true,
   "title_cell": "Table of Contents",
   "title_sidebar": "Contents",
   "toc_cell": false,
   "toc_position": {},
   "toc_section_display": true,
   "toc_window_display": false
  }
 },
 "nbformat": 4,
 "nbformat_minor": 4
}
